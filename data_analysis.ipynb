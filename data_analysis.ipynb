{
 "cells": [
  {
   "cell_type": "markdown",
   "metadata": {},
   "source": [
    "# 📦 Import Libraries"
   ]
  },
  {
   "cell_type": "code",
   "execution_count": 1,
   "metadata": {},
   "outputs": [],
   "source": [
    "import os\n",
    "\n",
    "import numpy  as np\n",
    "import pandas as pd"
   ]
  },
  {
   "cell_type": "code",
   "execution_count": 3,
   "metadata": {},
   "outputs": [],
   "source": [
    "from utils.teda import TEDADetect\n",
    "\n",
    "teda_detect = TEDADetect()"
   ]
  },
  {
   "cell_type": "code",
   "execution_count": 4,
   "metadata": {},
   "outputs": [],
   "source": [
    "plot_size = (12, 6)\n",
    "\n",
    "graph_colors = {\n",
    "  \"black\": \"#1F1E1F\",\n",
    "  \"blue\": \"#03A9CE\",\n",
    "}\n",
    "\n",
    "text_colors = {\n",
    "  \"title\": \"#262626\",\n",
    "  \"subtitle\": \"#646464\",\n",
    "}\n",
    "\n",
    "fig_path = \"./figures/\"\n",
    "files_path = \"./files/\"\n",
    "\n",
    "if not os.path.exists(fig_path):\n",
    "    os.makedirs(fig_path)\n",
    "\n",
    "if not os.path.exists(files_path):\n",
    "    os.makedirs(files_path)"
   ]
  },
  {
   "cell_type": "markdown",
   "metadata": {},
   "source": [
    "# 💾 Data Acquisition"
   ]
  },
  {
   "cell_type": "markdown",
   "metadata": {},
   "source": [
    "| Fuel     | Week Day  | Date        |\n",
    "|:--------:|:---------:|:-----------:|\n",
    "| Gasoline | Monday    | 2022-Oct-31 |\n",
    "| Ethanol  | Monday    | 2023-Feb-27 |\n",
    "| Gasoline | Tuesday   | 2022-Nov-22 |\n",
    "| Ethanol  | Tuesday   | 2023-Mar-14 |\n",
    "| Gasoline | Wednesday | 2022-Nov-16 |\n",
    "| Ethanol  | Wednesday | 2023-Feb-15 |\n",
    "| Gasoline | Thursday  | 2022-Nov-03 |\n",
    "| Ethanol  | Thursday  | 2023-Feb-16 |\n",
    "| Gasoline | Friday    | 2022-Oct-31 |\n",
    "| Ethanol  | Friday    | 2023-Feb-24 |"
   ]
  },
  {
   "cell_type": "code",
   "execution_count": null,
   "metadata": {},
   "outputs": [],
   "source": [
    "{'MON': './Datasets/Trajetos/[Gasolina] Trajeto Casa-Escola-UFRN/trackLog-2022-Oct-31_06-36-58_seg.csv',\n",
    " 'TUE': './Datasets/Trajetos/[Gasolina] Trajeto Casa-Escola-UFRN/trackLog-2022-Nov-22_06-34-32_ter.csv',\n",
    " 'WED': './Datasets/Trajetos/[Gasolina] Trajeto Casa-Escola-UFRN/trackLog-2022-Nov-16_06-39-10_qua.csv',\n",
    " 'THU': './Datasets/Trajetos/[Gasolina] Trajeto Casa-Escola-UFRN/trackLog-2022-Nov-03_06-35-20_qui.csv',\n",
    " 'FRI': './Datasets/Trajetos/[Gasolina] Trajeto Casa-Escola-UFRN/trackLog-2022-Oct-14_06-41-57_sex.csv'}"
   ]
  },
  {
   "cell_type": "code",
   "execution_count": null,
   "metadata": {},
   "outputs": [],
   "source": [
    "{'MON': './Datasets/Trajetos/[Etanol] Trajeto Casa-Escola-UFRN/trackLog-2023-Feb-27_06-41-02_seg.csv',\n",
    " 'TUE': './Datasets/Trajetos/[Etanol] Trajeto Casa-Escola-UFRN/trackLog-2023-Mar-14_06-39-58_ter.csv',\n",
    " 'WED': './Datasets/Trajetos/[Etanol] Trajeto Casa-Escola-UFRN/trackLog-2023-Feb-15_06-39-28_qua.csv',\n",
    " 'THU': './Datasets/Trajetos/[Etanol] Trajeto Casa-Escola-UFRN/trackLog-2023-Feb-16_06-32-36_qui.csv',\n",
    " 'FRI': './Datasets/Trajetos/[Etanol] Trajeto Casa-Escola-UFRN/trackLog-2023-Feb-24_06-41-36_sex.csv'}"
   ]
  }
 ],
 "metadata": {
  "kernelspec": {
   "display_name": "venv-mdpi",
   "language": "python",
   "name": "python3"
  },
  "language_info": {
   "codemirror_mode": {
    "name": "ipython",
    "version": 3
   },
   "file_extension": ".py",
   "mimetype": "text/x-python",
   "name": "python",
   "nbconvert_exporter": "python",
   "pygments_lexer": "ipython3",
   "version": "3.11.7"
  }
 },
 "nbformat": 4,
 "nbformat_minor": 2
}
